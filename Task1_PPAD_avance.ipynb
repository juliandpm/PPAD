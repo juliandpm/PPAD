{
 "cells": [
  {
   "cell_type": "markdown",
   "metadata": {},
   "source": [
    "# **TASK 1**\n",
    "\n",
    ">## Programación para la análitica de datos\n",
    ">>## Presentado por: \n",
    ">>>## Jaime Chacon\n",
    ">>>## Andrés Pascagasa\n",
    ">>>## Julián Parra\n",
    "\n",
    "## **CONTEXTO**\n",
    "Se requiere un programa en python, que devuelva el valor aproximado de la integral (Área bajo la curva) de una función matemática en un intervalo dado entre dos valores iniciales xinicial y xfinal. Las funciones que se deben ofrecer son: \n",
    "* seno\n",
    "* coseno\n",
    "* tagente y\n",
    "* exponencial"
   ]
  },
  {
   "cell_type": "code",
   "execution_count": null,
   "metadata": {},
   "outputs": [],
   "source": [
    "import math as m\n",
    "\n",
    "def impar(n):\n",
    "    im = (2*(n-1))+1\n",
    "    return(im)\n",
    "\n",
    "def par(n):\n",
    "    p = (2*(n))\n",
    "    return(p)\n",
    "\n",
    "def factorial(x):   \n",
    "    f = []\n",
    "    for i in range(0,(x+1)):\n",
    "        if (i == 1):\n",
    "            f = float(1)\n",
    "        else:\n",
    "            f = f * i\n",
    "    return(f)\n",
    "\n",
    "def seno(x, n=100):\n",
    "    for i in range(1, (n+1)):\n",
    "        if (i == 1):\n",
    "            sen = x\n",
    "        else:\n",
    "            sen = sen + ((-1)**(i-1))*(x**impar(i)/factorial(impar(i)))\n",
    "    return(sen)\n",
    "\n",
    "def coseno(x, n=500):\n",
    "    for i in range(1, (n+1)):\n",
    "        if (i == 1):\n",
    "            cos = 1\n",
    "        else:\n",
    "            cos = cos + ((-1)**(i-1))*(x**par(i-1)/factorial(par(i-1)))\n",
    "    return(cos)\n",
    "\n",
    "def exp(x, n=100):\n",
    "    for i in range(1, (n+1)):\n",
    "        if (i == 1):\n",
    "            ex = 1 + x\n",
    "        else:\n",
    "            ex = ex + ((x**i)/factorial(i))\n",
    "    return(ex)\n",
    "\n",
    "def tangente(x):\n",
    "    tan = seno(x)/coseno(x)\n",
    "    return(tan)"
   ]
  }
 ],
 "metadata": {
  "kernelspec": {
   "display_name": "Python 3",
   "language": "python",
   "name": "python3"
  },
  "language_info": {
   "codemirror_mode": {
    "name": "ipython",
    "version": 3
   },
   "file_extension": ".py",
   "mimetype": "text/x-python",
   "name": "python",
   "nbconvert_exporter": "python",
   "pygments_lexer": "ipython3",
   "version": "3.7.4"
  }
 },
 "nbformat": 4,
 "nbformat_minor": 4
}
